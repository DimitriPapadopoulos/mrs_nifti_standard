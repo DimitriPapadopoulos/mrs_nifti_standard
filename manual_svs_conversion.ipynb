{
 "cells": [
  {
   "cell_type": "code",
   "execution_count": 1,
   "metadata": {},
   "outputs": [],
   "source": [
    "%load_ext autoreload\n",
    "%autoreload 2\n",
    "from mapvbvd import mapVBVD\n",
    "from pathlib import Path\n",
    "import numpy as np\n",
    "import h5py\n"
   ]
  },
  {
   "cell_type": "markdown",
   "metadata": {},
   "source": [
    "### Load the data"
   ]
  },
  {
   "cell_type": "code",
   "execution_count": 2,
   "metadata": {},
   "outputs": [],
   "source": [
    "supressed_file = Path('original_data/meas_MID310_STEAM_metab_FID115673.dat')\n",
    "unsupressed_file = Path('original_data/meas_MID312_STEAM_wref3_FID115675.dat')\n",
    "\n",
    "suppressed_raw = mapVBVD(supressed_file,quiet=True)\n",
    "unsuppressed_raw = mapVBVD(unsupressed_file,quiet=True)"
   ]
  },
  {
   "cell_type": "markdown",
   "metadata": {},
   "source": [
    "### Extract data"
   ]
  },
  {
   "cell_type": "code",
   "execution_count": 3,
   "metadata": {},
   "outputs": [
    {
     "name": "stderr",
     "output_type": "stream",
     "text": [
      "                                                           \r"
     ]
    }
   ],
   "source": [
    "suppressed_raw.image.removeOS=False\n",
    "unsuppressed_raw.image.removeOS=False\n",
    "supp_block = suppressed_raw.image.unsorted()\n",
    "unsupp_block = unsuppressed_raw.image.unsorted()\n",
    "\n",
    "newshape = (1,1,1)+supp_block.shape\n",
    "supp_block = supp_block.reshape(newshape)\n",
    "\n",
    "newshape = (1,1,1)+unsupp_block.shape\n",
    "unsupp_block = unsupp_block.reshape(newshape)\n"
   ]
  },
  {
   "cell_type": "code",
   "execution_count": 4,
   "metadata": {},
   "outputs": [
    {
     "data": {
      "text/plain": [
       "(1, 1, 1, 4096, 32, 2)"
      ]
     },
     "execution_count": 4,
     "metadata": {},
     "output_type": "execute_result"
    }
   ],
   "source": [
    "unsupp_block.shape"
   ]
  },
  {
   "cell_type": "code",
   "execution_count": 5,
   "metadata": {},
   "outputs": [
    {
     "data": {
      "text/plain": [
       "<Figure size 640x480 with 1 Axes>"
      ]
     },
     "metadata": {},
     "output_type": "display_data"
    }
   ],
   "source": [
    "import matplotlib.pyplot as plt\n",
    "\n",
    "plt.plot(np.real(unsupp_block[0,0,0,:,0,0]))\n",
    "plt.plot(np.imag(unsupp_block[0,0,0,:,0,0]))\n",
    "plt.plot(np.abs(unsupp_block[0,0,0,:,0,0]))\n",
    "plt.show()"
   ]
  },
  {
   "cell_type": "markdown",
   "metadata": {},
   "source": [
    "### Voxel orientation calculations \n",
    "From spec2nii code"
   ]
  },
  {
   "cell_type": "code",
   "execution_count": 6,
   "metadata": {},
   "outputs": [],
   "source": [
    "from spec2nii.twixfunctions import twix2DCMOrientation,examineTwix,extractTwixMetadata\n",
    "from spec2nii.dcm2niiOrientation.orientationFuncs import nifti_dicom2mat\n",
    "from spec2nii.nifti_orientation import NIFTIOrient\n",
    "\n",
    "# Orientation calculations\n",
    "#1) Calculate dicom like imageOrientationPatient,imagePositionPatient,pixelSpacing and slicethickness\n",
    "imageOrientationPatient,imagePositionPatient,pixelSpacing,slicethickness = twix2DCMOrientation(suppressed_raw['hdr'],False)\n",
    "\n",
    "# 2) in style of dcm2niix\n",
    "# a) calculate Q44\n",
    "xyzMM = np.append(pixelSpacing,slicethickness)\n",
    "Q44 = nifti_dicom2mat(imageOrientationPatient,imagePositionPatient,xyzMM,verbose=False)\n",
    "# b) calculate nifti quaternion parameters\n",
    "Q44[:2,:] *= -1\n",
    "# qb,qc,qd,qx,qy,qz,dx,dy,dz,qfac = nifti_mat44_to_quatern(Q44)\n",
    "# 3) place in data class for nifti orientation parameters  \n",
    "currNiftiOrientation = NIFTIOrient(Q44)\n"
   ]
  },
  {
   "cell_type": "code",
   "execution_count": 7,
   "metadata": {},
   "outputs": [
    {
     "name": "stdout",
     "output_type": "stream",
     "text": [
      "[[ 20.          -0.          -0.         -32.90067836]\n",
      " [ -0.         -20.          -0.          10.6633755 ]\n",
      " [  0.           0.         -20.          21.35589036]\n",
      " [  0.           0.           0.           1.        ]]\n"
     ]
    }
   ],
   "source": [
    "print(currNiftiOrientation.Q44)"
   ]
  },
  {
   "cell_type": "markdown",
   "metadata": {},
   "source": [
    "### Meta data\n",
    "#### Required for Level 0"
   ]
  },
  {
   "cell_type": "code",
   "execution_count": 8,
   "metadata": {},
   "outputs": [],
   "source": [
    "level_0_dict = {'dim_5': 'DIM_COIL',\n",
    "                'dim_6': 'DIM_DYN',\n",
    "                'dim_6_use': 'Signal repetitions'}"
   ]
  },
  {
   "cell_type": "markdown",
   "metadata": {},
   "source": [
    "#### Required for Level 1\n",
    "**TransmitterFrequency** , Array of doubles, See DICOM tag (0018,9098). Should be given in MHz.  \n",
    "**ResonantNucleus**, Array of strings, See DICOM tag (0018,9100). Must be one of the DICOM recognised nuclei “1H”, “3HE”, “7LI”, “13C”, “19F”, “23NA”, “31P”, “129XE” or one named in the specified format. I.e. Mass number followed by the chemical symbol in uppercase.  \n",
    "**SpectralWidth**, Array of doubles, See DICOM tag (0018,9052). Should be given in Hz.  "
   ]
  },
  {
   "cell_type": "code",
   "execution_count": 9,
   "metadata": {},
   "outputs": [
    {
     "name": "stdout",
     "output_type": "stream",
     "text": [
      "TransmitterFrequency = 297.219948 MHz\n",
      "ResonantNucleus = 1H\n",
      "SpectralWidth = 12004.80 Hz\n"
     ]
    }
   ],
   "source": [
    "dwelltime = suppressed_raw['hdr']['MeasYaps'][('sRXSPEC','alDwellTime','0')]/1E9 # For nifti pixel dim\n",
    "spectral_width_hz = 1/(suppressed_raw['hdr']['MeasYaps'][('sRXSPEC','alDwellTime','0')]/1E9)\n",
    "transmitter_frequency_mhz = suppressed_raw['hdr']['MeasYaps'][('sTXSPEC', 'asNucleusInfo', '0', 'lFrequency')]/1E6\n",
    "nucleus_str = suppressed_raw['hdr']['MeasYaps'][('sTXSPEC', 'asNucleusInfo', '0', 'tNucleus')].strip('\"')\n",
    "\n",
    "print(f'TransmitterFrequency = {transmitter_frequency_mhz:0.6f} MHz')\n",
    "print(f'ResonantNucleus = {nucleus_str}')\n",
    "print(f'SpectralWidth = {spectral_width_hz:0.2f} Hz')\n"
   ]
  },
  {
   "cell_type": "markdown",
   "metadata": {},
   "source": [
    "#### Extract some Level 2B parameters as well \n",
    "\n",
    "Incude:  \n",
    "**EchoTime**, double, Time from centroid of excitation to start of FID or centre of echo. Units: Seconds  \n",
    "**RepetitionTime**, double, Sequence repetition time. Units: Seconds  \n",
    "**InversionTime**, double, Inversion time. Units: Seconds  \n",
    "**MixingTime**, double, Mixing time in e.g. STEAM sequence. Units: Seconds\n",
    "\n",
    "\n",
    "**ConversionMethod**, String, Program used for conversion. May include additional information like software version.  \n",
    "**ConversionTime**, String:  “YYYY-MM-DDThh:mm:ss.sss”, Time and date of conversion. ISO 8601 compliant format  \n",
    "**OriginalFile**, String, Name and extension of the original file  \n",
    "\n",
    "\n",
    "\n",
    "Not included:  \n",
    "**SaturationBands**, Array of 2D 4x4 arrays, Orientation/position affine for each saturation band"
   ]
  },
  {
   "cell_type": "code",
   "execution_count": 10,
   "metadata": {},
   "outputs": [
    {
     "name": "stdout",
     "output_type": "stream",
     "text": [
      "EchoTime = 0.011 s\n",
      "RepetitionTime = 5.000 s\n",
      "InversionTime = None s\n",
      "MixingTime = 0.032 s\n"
     ]
    }
   ],
   "source": [
    "echo_time_s = suppressed_raw['hdr']['MeasYaps'][('alTE', '0')]/1E6\n",
    "repetition_time_s = suppressed_raw['hdr']['MeasYaps'][('alTR', '0')]/1E6\n",
    "inversion_time_s = None\n",
    "mixing_time_s = suppressed_raw['hdr']['MeasYaps'][('alTD', '0')]/1E6\n",
    "\n",
    "print(f'EchoTime = {echo_time_s:0.3f} s')\n",
    "print(f'RepetitionTime = {repetition_time_s:0.3f} s')\n",
    "print(f'InversionTime = {inversion_time_s} s')\n",
    "print(f'MixingTime = {mixing_time_s:0.3f} s')"
   ]
  },
  {
   "cell_type": "markdown",
   "metadata": {},
   "source": [
    "#### Sequence block for extra info \n",
    "\n",
    "**Offset**,\n",
    "double,\n",
    "ppm  \n",
    "**PulseAmplitude**,\n",
    "Array of doubles,\n",
    "Amplitude modulation in Hz   \n",
    "**PulsePhase**,\n",
    "Array of doubles,\n",
    "Phase modulation in radians   \n",
    "**Nucleus**,\n",
    "String,\n",
    "Nucleus  \n",
    "**PulseGradient**,\n",
    "Nx3 Array of doubles,\n",
    "Gradients applied during pulse on each axis. Units:  mT/m  \n",
    "**PulseDuration**,\n",
    "Double,\n",
    "Pulse duration in seconds  \n",
    "**FlipAngle**,\n",
    "Double,\n",
    "Pulse target flip-angle. Units: degrees  \n",
    "**Delay**,\n",
    "Double,\n",
    "Time in seconds between the end of the pulse and start of next block  \n",
    "**RephaseArea**,\n",
    "1x3 Array of doubles,\n",
    "Gradient rephase areas applied during delay time after each pulse. mT.ms/m  \n",
    "**CoherenceFilter**,\n",
    "Signed integer,\n",
    "Coherence order filter to apply at the end of each block. If absent no filter is applied.  \n"
   ]
  },
  {
   "cell_type": "code",
   "execution_count": 11,
   "metadata": {},
   "outputs": [],
   "source": [
    "import json\n",
    "\n",
    "with open('original_data/steam11.json', 'r') as json_file:\n",
    "    simulator_seq_description = json.loads(json_file.read())\n",
    "\n",
    "seq_block = []\n",
    "\n",
    "for idx,(RF,delay,rephase,cf) in enumerate(zip( simulator_seq_description['RF'],\n",
    "                                                simulator_seq_description['delays'],\n",
    "                                                simulator_seq_description['rephaseAreas'],\n",
    "                                                simulator_seq_description['CoherenceFilter'])):\n",
    "    block = {'Offset': RF['frequencyOffset'],\n",
    "             'PulseAmplitude':RF['amp'],\n",
    "             'PulsePhase':RF['phase'],\n",
    "             'Nucleus':'1H',\n",
    "             'PulseGradient':RF['grad'],\n",
    "             'PulseDuration':RF['time'],\n",
    "             'FlipAngle':90,\n",
    "             'Delay':delay,\n",
    "             'RephaseArea':rephase,\n",
    "             'CoherenceFilter':cf}\n",
    "    seq_block.append(block)"
   ]
  },
  {
   "cell_type": "markdown",
   "metadata": {},
   "source": [
    "## Make the json string "
   ]
  },
  {
   "cell_type": "code",
   "execution_count": 12,
   "metadata": {},
   "outputs": [
    {
     "name": "stdout",
     "output_type": "stream",
     "text": [
      "{\"dim_5\": \"DIM_COIL\", \"dim_6\": \"DIM_DYN\", \"dim_6_use\": \"Signal repetitions\", \"TransmitterFrequency\": 297.219948, \"ResonantNucleus\": \"1H\", \"SpectralWidth\": 12004.801920768306}\n"
     ]
    }
   ],
   "source": [
    "level_1_dict = {**level_0_dict,\n",
    "                'TransmitterFrequency':transmitter_frequency_mhz,\n",
    "                'ResonantNucleus':nucleus_str,\n",
    "                'SpectralWidth':spectral_width_hz}\n",
    "\n",
    "json_lvl_1 = json.dumps(level_1_dict)\n",
    "print(json_lvl_1)\n",
    "\n",
    "level_2_dict = {**level_1_dict,\n",
    "                'EchoTime':echo_time_s,\n",
    "                'RepetitionTime':repetition_time_s,\n",
    "                'InversionTime':inversion_time_s,\n",
    "                'MixingTime':mixing_time_s,\n",
    "                'SequenceBlock':seq_block}\n",
    "\n",
    "json_lvl_2 = json.dumps(level_2_dict)\n",
    "# print(json_lvl_2)\n"
   ]
  },
  {
   "cell_type": "markdown",
   "metadata": {},
   "source": [
    "## Data conventions\n",
    "- The spectral data points are ordered in sequence of increasing time and contain the value TIME.\n",
    "- In a right-handed coordinate system (x corresponding to real values, y imaginary values, and z time):  \n",
    "    - data arising from nuclei with a positive gyromagnetic ratio should be stored so that positive relative frequencies (on the absolute scale, relative to the spectrometer reference frequency) appear to have a positive (counter-clockwise) rotation.\n",
    "    - data arising from nuclei with a negative gyromagnetic ratio should be stored so that positive relative frequencies (on the absolute scale, relative to the spectrometer reference frequency) appear to have a negative (clockwise) rotation."
   ]
  },
  {
   "cell_type": "code",
   "execution_count": 13,
   "metadata": {},
   "outputs": [],
   "source": [
    "supp_block = supp_block.conj()\n",
    "unsupp_block = unsupp_block.conj()"
   ]
  },
  {
   "cell_type": "markdown",
   "metadata": {},
   "source": [
    "## Write the nifti file "
   ]
  },
  {
   "cell_type": "code",
   "execution_count": 14,
   "metadata": {},
   "outputs": [],
   "source": [
    "save_path = Path('./example_data/svs_1')\n",
    "\n",
    "import nibabel as nib\n",
    "newobj = nib.nifti2.Nifti2Image(supp_block,currNiftiOrientation.Q44)\n",
    "\n",
    "# Write new header\n",
    "pixDim = newobj.header['pixdim']\n",
    "pixDim[4] = dwelltime\n",
    "newobj.header['pixdim'] = pixDim\n",
    "\n",
    "# Set q_form >0\n",
    "newobj.header.set_qform(currNiftiOrientation.Q44)\n",
    "\n",
    "# Set conformance level \n",
    "newobj.header['intent_name'] = b'mrs_level_3'\n",
    "\n",
    "# Write extension\n",
    "extension = nib.nifti1.Nifti1Extension(44, json_lvl_2.encode('UTF-8'))\n",
    "newobj.header.extensions.append(extension)\n",
    "\n",
    "# # From nii obj and write    \n",
    "nib.save(newobj,save_path / 'svs_suppressed.nii.gz')"
   ]
  },
  {
   "cell_type": "markdown",
   "metadata": {},
   "source": [
    "### Write equivalent json\n"
   ]
  },
  {
   "cell_type": "code",
   "execution_count": 15,
   "metadata": {},
   "outputs": [],
   "source": [
    "with open(save_path / 'svs_suppressed.json', 'w') as json_file:\n",
    "        json.dump(level_2_dict, json_file)"
   ]
  },
  {
   "cell_type": "markdown",
   "metadata": {},
   "source": [
    "### Repeat for level 1 conformance "
   ]
  },
  {
   "cell_type": "code",
   "execution_count": 16,
   "metadata": {},
   "outputs": [],
   "source": [
    "newobj = nib.nifti2.Nifti2Image(supp_block,np.eye(4))\n",
    "\n",
    "pixDim = newobj.header['pixdim']\n",
    "pixDim[4] = dwelltime\n",
    "newobj.header['pixdim'] = pixDim\n",
    "\n",
    "# Set conformance level \n",
    "newobj.header['intent_name'] = b'mrs_level_1'\n",
    "\n",
    "# Write extension\n",
    "extension = nib.nifti1.Nifti1Extension(44, json_lvl_1.encode('UTF-8'))\n",
    "newobj.header.extensions.append(extension)\n",
    "\n",
    "# # From nii obj and write    \n",
    "nib.save(newobj,save_path / 'svs_suppressed_level_1.nii.gz')\n",
    "\n",
    "with open(save_path / 'svs_suppressed_level_1.json', 'w') as json_file:\n",
    "        json.dump(level_1_dict, json_file)\n",
    "        "
   ]
  },
  {
   "cell_type": "markdown",
   "metadata": {},
   "source": [
    "### And unsuppressed level 3 conformance "
   ]
  },
  {
   "cell_type": "code",
   "execution_count": 17,
   "metadata": {},
   "outputs": [],
   "source": [
    "newobj = nib.nifti2.Nifti2Image(unsupp_block,currNiftiOrientation.Q44)\n",
    "\n",
    "# Write new header\n",
    "pixDim = newobj.header['pixdim']\n",
    "pixDim[4] = dwelltime\n",
    "newobj.header['pixdim'] = pixDim\n",
    "\n",
    "# Set q_form >0\n",
    "newobj.header.set_qform(currNiftiOrientation.Q44)\n",
    "\n",
    "# Set conformance level \n",
    "newobj.header['intent_name'] = b'mrs_level_3'\n",
    "\n",
    "# Write extension\n",
    "extension = nib.nifti1.Nifti1Extension(44, json_lvl_2.encode('UTF-8'))\n",
    "newobj.header.extensions.append(extension)\n",
    "\n",
    "# # From nii obj and write    \n",
    "nib.save(newobj,save_path / 'svs_unsuppressed.nii.gz')\n",
    "\n",
    "with open(save_path / 'svs_unsuppressed.json', 'w') as json_file:\n",
    "        json.dump(level_2_dict, json_file)\n"
   ]
  },
  {
   "cell_type": "markdown",
   "metadata": {},
   "source": [
    "## Use data from fsl_mrs example as combined"
   ]
  },
  {
   "cell_type": "code",
   "execution_count": 26,
   "metadata": {},
   "outputs": [
    {
     "data": {
      "image/png": "[encoded data removed]",
      "text/plain": [
       "<Figure size 1080x360 with 2 Axes>"
      ]
     },
     "metadata": {
      "needs_background": "light"
     },
     "output_type": "display_data"
    }
   ],
   "source": [
    "combined_data = nib.load('original_data/metab.nii')\n",
    "combined_data_values = combined_data.get_fdata(dtype=np.complex64)\n",
    "combined_data_values = combined_data_values.conj()\n",
    "combined_data_values = np.pad(combined_data_values,((0,0),(0,0),(0,0),(0,1))) # Zero pad to correct odd number of points\n",
    "\n",
    "fig,(ax1,ax2) = plt.subplots(1,2,figsize=(15,5))\n",
    "ax1.plot(np.real(np.squeeze(combined_data_values)))\n",
    "spec = np.fft.fftshift(np.fft.fft(np.squeeze(combined_data_values)))\n",
    "ax2.plot(np.real(spec))\n",
    "plt.show()\n",
    "\n",
    "combined_data_out = nib.nifti2.Nifti2Image(combined_data_values,currNiftiOrientation.Q44)\n",
    "\n",
    "pixDim = combined_data_out.header['pixdim']\n",
    "pixDim[4] = dwelltime\n",
    "combined_data_out.header['pixdim'] = pixDim\n",
    "\n",
    "# Set q_form >0\n",
    "combined_data_out.header.set_qform(currNiftiOrientation.Q44)\n",
    "\n",
    "level_1_dict_preproc = {'TransmitterFrequency':transmitter_frequency_mhz,\n",
    "                        'ResonantNucleus':nucleus_str,\n",
    "                        'SpectralWidth':spectral_width_hz}\n",
    "\n",
    "level_2_dict_preproc = {**level_1_dict_preproc,\n",
    "                        'EchoTime':echo_time_s,\n",
    "                        'RepetitionTime':repetition_time_s,\n",
    "                        'InversionTime':inversion_time_s,\n",
    "                        'MixingTime':mixing_time_s,\n",
    "                        'SequenceBlock':seq_block}\n",
    "\n",
    "json_lvl_2 = json.dumps(level_2_dict_preproc)\n",
    "\n",
    "# Set conformance level \n",
    "combined_data_out.header['intent_name'] = b'mrs_level_3'\n",
    "\n",
    "# Write extension\n",
    "extension = nib.nifti1.Nifti1Extension(44, json_lvl_2.encode('UTF-8'))\n",
    "combined_data_out.header.extensions.append(extension)\n",
    "\n",
    "# # From nii obj and write    \n",
    "nib.save(combined_data_out,save_path / 'svs_preprocessed.nii.gz')\n",
    "\n",
    "with open(save_path / 'svs_preprocessed.json', 'w') as json_file:\n",
    "        json.dump(level_2_dict, json_file)"
   ]
  },
  {
   "cell_type": "markdown",
   "metadata": {},
   "source": [
    "### Save out hdf5 versions of data"
   ]
  },
  {
   "cell_type": "code",
   "execution_count": 20,
   "metadata": {},
   "outputs": [],
   "source": [
    "with h5py.File(save_path / 'data.h5', 'w') as h5f:\n",
    "    h5f.create_dataset('svs_suppressed', data=supp_block)\n",
    "    h5f.create_dataset('svs_suppressed_level_1', data=supp_block)\n",
    "    h5f.create_dataset('svs_unsuppressed', data=unsupp_block)\n",
    "    h5f.create_dataset('svs_preprocessed', data=combined_data_values)"
   ]
  },
  {
   "cell_type": "markdown",
   "metadata": {},
   "source": [
    "## Load and check "
   ]
  },
  {
   "cell_type": "code",
   "execution_count": 21,
   "metadata": {},
   "outputs": [],
   "source": [
    "check_nifti = nib.load(save_path / 'svs_suppressed.nii.gz')\n",
    "\n",
    "with h5py.File(save_path / 'data.h5','r') as h5f:\n",
    "    check_hdf5 = h5f['svs_suppressed'][:]\n",
    "    \n",
    "assert np.allclose(check_nifti.get_fdata(dtype=np.complex64),supp_block)\n",
    "assert np.allclose(check_nifti.get_fdata(dtype=np.complex64),check_hdf5)\n",
    "\n",
    "loaded_he_content = json.loads(check_nifti.header.extensions[0].get_content())\n",
    "\n",
    "with open(save_path / 'svs_suppressed.json', 'r') as json_file:\n",
    "    loaded_he_content_from_json = json.loads(json_file.read())\n",
    "\n",
    "assert loaded_he_content == level_2_dict\n",
    "assert loaded_he_content_from_json == level_2_dict\n"
   ]
  },
  {
   "cell_type": "code",
   "execution_count": 22,
   "metadata": {},
   "outputs": [
    {
     "name": "stdout",
     "output_type": "stream",
     "text": [
      "<class 'nibabel.nifti2.Nifti2Header'> object, endian='<'\n",
      "sizeof_hdr      : 540\n",
      "magic           : b'n+2'\n",
      "eol_check       : [13 10 26 10]\n",
      "datatype        : complex64\n",
      "bitpix          : 64\n",
      "dim             : [   6    1    1    1 4096   32   64    1]\n",
      "intent_p1       : 0.0\n",
      "intent_p2       : 0.0\n",
      "intent_p3       : 0.0\n",
      "pixdim          : [1.00e+00 2.00e+01 2.00e+01 2.00e+01 8.33e-05 1.00e+00 1.00e+00 1.00e+00]\n",
      "vox_offset      : 0\n",
      "scl_slope       : nan\n",
      "scl_inter       : nan\n",
      "cal_max         : 0.0\n",
      "cal_min         : 0.0\n",
      "slice_duration  : 0.0\n",
      "toffset         : 0.0\n",
      "slice_start     : 0\n",
      "slice_end       : 0\n",
      "descrip         : b''\n",
      "aux_file        : b''\n",
      "qform_code      : aligned\n",
      "sform_code      : aligned\n",
      "quatern_b       : 1.0\n",
      "quatern_c       : 0.0\n",
      "quatern_d       : 0.0\n",
      "qoffset_x       : -32.90067836\n",
      "qoffset_y       : 10.6633755\n",
      "qoffset_z       : 21.35589036\n",
      "srow_x          : [ 20.          -0.          -0.         -32.90067836]\n",
      "srow_y          : [ -0.        -20.         -0.         10.6633755]\n",
      "srow_z          : [  0.           0.         -20.          21.35589036]\n",
      "slice_code      : unknown\n",
      "xyzt_units      : 0\n",
      "intent_code     : none\n",
      "intent_name     : b'mrs_level_3'\n",
      "dim_info        : 0\n",
      "unused_str      : b''\n"
     ]
    }
   ],
   "source": [
    "print(check_nifti.header)"
   ]
  }
 ],
 "metadata": {
  "kernelspec": {
   "display_name": "Python 3",
   "language": "python",
   "name": "python3"
  },
  "language_info": {
   "codemirror_mode": {
    "name": "ipython",
    "version": 3
   },
   "file_extension": ".py",
   "mimetype": "text/x-python",
   "name": "python",
   "nbconvert_exporter": "python",
   "pygments_lexer": "ipython3",
   "version": "3.7.7"
  }
 },
 "nbformat": 4,
 "nbformat_minor": 4
}
