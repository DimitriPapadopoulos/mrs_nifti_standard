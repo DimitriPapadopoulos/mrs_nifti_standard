{
 "cells": [
  {
   "cell_type": "code",
   "execution_count": 1,
   "metadata": {},
   "outputs": [],
   "source": [
    "%load_ext autoreload\n",
    "%autoreload 2\n",
    "\n",
    "from subprocess import check_call\n",
    "import json\n",
    "import numpy as np\n",
    "from copy import deepcopy\n",
    "from pathlib import Path\n",
    "import shutil\n",
    "\n",
    "from fsl_mrs.utils import mrs_io\n",
    "from fsl_mrs.utils.synthetic import synthetic_from_basis, synthetic\n",
    "from fsl_mrs.core import MRS\n",
    "\n",
    "import nibabel as nib\n",
    "import matplotlib.pyplot as plt\n",
    "from fsl_mrs.utils.misc import checkCFUnits"
   ]
  },
  {
   "cell_type": "code",
   "execution_count": 2,
   "metadata": {},
   "outputs": [],
   "source": [
    "dyexample = Path('example_data/dynamic_header_example')"
   ]
  },
  {
   "cell_type": "markdown",
   "metadata": {},
   "source": [
    "# Dynamic header data examples\n",
    "\n",
    "## Example 1 - j-difference editing\n",
    "Simple example of MEGA editing of GABA."
   ]
  },
  {
   "cell_type": "code",
   "execution_count": 3,
   "metadata": {},
   "outputs": [
    {
     "data": {
      "text/plain": [
       "0"
      ]
     },
     "execution_count": 3,
     "metadata": {},
     "output_type": "execute_result"
    }
   ],
   "source": [
    "check_call(['fsl_mrs_sim',\n",
    "                '-b', str(dyexample / 'metabs.txt'),\n",
    "                '-o', str(dyexample / 'ON'),\n",
    "                '-p', '2.0',\n",
    "                '--overwrite',\n",
    "                str(dyexample / 'mpress_ON.json')])\n"
   ]
  },
  {
   "cell_type": "code",
   "execution_count": 4,
   "metadata": {},
   "outputs": [
    {
     "data": {
      "text/plain": [
       "0"
      ]
     },
     "execution_count": 4,
     "metadata": {},
     "output_type": "execute_result"
    }
   ],
   "source": [
    "check_call(['fsl_mrs_sim',\n",
    "                '-b', str(dyexample / 'metabs.txt'),\n",
    "                '-o', str(dyexample / 'OFF'),\n",
    "                '-p', '2.0',\n",
    "                '--overwrite',\n",
    "                str(dyexample / 'mpress_OFF.json')])"
   ]
  },
  {
   "cell_type": "code",
   "execution_count": 5,
   "metadata": {},
   "outputs": [
    {
     "name": "stdout",
     "output_type": "stream",
     "text": [
      "(1, 1, 1, 2048, 4, 10, 2)\n"
     ]
    }
   ],
   "source": [
    "full_data = np.zeros((2048,4,10,2),dtype=np.complex)\n",
    "\n",
    "for rep in np.arange(0,10):\n",
    "    # Generate multi-coil dataset\n",
    "    fids, header, _ = synthetic_from_basis.syntheticFromBasisFile(str(dyexample / 'ON'),\n",
    "                                                broadening=(9.0, 9.0),\n",
    "                                                coilamps=[1.0, 0.85 , 0.65 , 1.15],\n",
    "                                                coilphase=[0.0, 1.5, 1.0, 3.5],\n",
    "                                                noisecovariance=[[0.5,0.05,0.01,0.01],[0.05,0.5,0.01,0.01],[0.01,0.01,0.5,0.05],[0.01,0.01,0.05,0.5]])\n",
    "    \n",
    "    fids2, header, _ = synthetic_from_basis.syntheticFromBasisFile(str(dyexample / 'OFF'),\n",
    "                                                broadening=(9.0, 9.0),\n",
    "                                                coilamps=[1.0, 0.85 , 0.65 , 1.15],\n",
    "                                                coilphase=[0.0, 1.5, 1.0, 3.5],\n",
    "                                                noisecovariance=[[0.5,0.05,0.01,0.01],[0.05,0.5,0.01,0.01],[0.01,0.01,0.5,0.05],[0.01,0.01,0.05,0.5]])\n",
    "\n",
    "    full_data[:,:,rep,0] = fids\n",
    "    full_data[:,:,rep,1] = fids\n",
    "\n",
    "newshape = (1,1,1)+full_data.shape\n",
    "full_data = full_data.reshape(newshape)\n",
    "print(full_data.shape)"
   ]
  },
  {
   "cell_type": "markdown",
   "metadata": {},
   "source": [
    "Confirm phase/frequency conventions"
   ]
  },
  {
   "cell_type": "code",
   "execution_count": 6,
   "metadata": {},
   "outputs": [
    {
     "data": {
      "image/png": "[encoded data removed]",
      "text/plain": [
       "<Figure size 1440x936 with 3 Axes>"
      ]
     },
     "metadata": {
      "needs_background": "light"
     },
     "output_type": "display_data"
    }
   ],
   "source": [
    "# Make absolute frequency scale (remember the -ve sign in omega=-gamma.B0)\n",
    "def plot_frequency_orientation(data,header):\n",
    "    cf_mhz = checkCFUnits(header['centralFrequency'],units='MHz')\n",
    "\n",
    "    npoints = data.shape[0]\n",
    "    frequency_axis = np.linspace(-header['bandwidth']/2,header['bandwidth']/2,npoints) \n",
    "    abs_freq_axis = -cf_mhz + frequency_axis/1E6\n",
    "    # Display frequency axis\n",
    "    frequency_axis *= -1\n",
    "    # Chemical shift axis (shifted to TMS)\n",
    "    c_shift_axis = 4.65+ frequency_axis/cf_mhz\n",
    "\n",
    "    spec_fft = np.fft.fftshift(np.fft.fft(data))\n",
    "\n",
    "    fig,(ax1,ax2,ax3) = plt.subplots(3,1,figsize=(20,13))\n",
    "    ax1.plot(abs_freq_axis,np.real(spec_fft))\n",
    "    ax1.set_yticks([])\n",
    "    ax1.set_xlabel('$\\omega$ (Hz)')\n",
    "    ax1.set_title('Absolute frequency scale',loc='left')\n",
    "\n",
    "    ax2.plot(frequency_axis,np.real(spec_fft))\n",
    "    ax2.set_yticks([])\n",
    "    ax2.invert_xaxis()\n",
    "    ax2.set_xlabel('$|\\omega|-|\\omega_{ref}|$ (Hz)')\n",
    "    ax2.set_title('Display magnitude frequency scale',loc='left')\n",
    "\n",
    "    ax3.plot(c_shift_axis,np.real(spec_fft))\n",
    "    ax3.set_yticks([])\n",
    "    ax3.invert_xaxis()\n",
    "    ax3.set_xlabel('$\\delta$ (ppm)')\n",
    "    ax3.set_title('Chemical shift scale',loc='left')\n",
    "\n",
    "    plt.show()\n",
    "\n",
    "plot_frequency_orientation(full_data[0,0,:,0,0,0],header)"
   ]
  },
  {
   "cell_type": "code",
   "execution_count": 7,
   "metadata": {},
   "outputs": [],
   "source": [
    "# Cleanup\n",
    "shutil.rmtree(dyexample / 'ON')\n",
    "shutil.rmtree(dyexample / 'OFF')"
   ]
  },
  {
   "cell_type": "markdown",
   "metadata": {},
   "source": [
    "### Form dimension information"
   ]
  },
  {
   "cell_type": "code",
   "execution_count": 8,
   "metadata": {},
   "outputs": [],
   "source": [
    "dimensions_dict = {'dim_5': 'DIM_COIL',\n",
    "                   'dim_6': 'DIM_DYN',\n",
    "                   'dim_7': 'DIM_INDIRECT_0',\n",
    "                   'dim_7_use': 'j-difference editing, two conditions',\n",
    "                   'dim_7_header': 'editing_pulse'\n",
    "                  }"
   ]
  },
  {
   "cell_type": "markdown",
   "metadata": {},
   "source": [
    "### Required metadata"
   ]
  },
  {
   "cell_type": "code",
   "execution_count": 9,
   "metadata": {},
   "outputs": [],
   "source": [
    "dwelltime = 1/header['bandwidth'] # For pixdim[4]\n",
    "\n",
    "metadata = {'TransmitterFrequency': header['centralFrequency']/1E6,\n",
    "            'ResonantNucleus': '1H'}\n",
    "\n",
    "full_metadata = metadata\n",
    "full_metadata['editing_pulse'] =  [{'pulse_offset': 1.89,\n",
    "                                    'condition': 'ON'},\n",
    "                                   {'pulse_offset': 7.8,\n",
    "                                    'condition': 'OFF'}]\n",
    "\n",
    "full_metadata.update(dimensions_dict)\n",
    "metadata_json = json.dumps(full_metadata)"
   ]
  },
  {
   "cell_type": "markdown",
   "metadata": {},
   "source": [
    "### Orientation information\n",
    "No spatial position but pixel dimensions of [20 20 30]"
   ]
  },
  {
   "cell_type": "code",
   "execution_count": 10,
   "metadata": {},
   "outputs": [],
   "source": [
    "newobj = nib.nifti2.Nifti2Image(full_data,None)\n",
    "\n",
    "# Write new header\n",
    "pixDim = newobj.header['pixdim']\n",
    "pixDim[1:4] = [20, 20, 30]\n",
    "pixDim[4] = dwelltime\n",
    "newobj.header['pixdim'] = pixDim\n",
    "\n",
    "# Set q_form = 0\n",
    "newobj.header.set_qform(None,code=0)\n",
    "\n",
    "# Set conformance level \n",
    "newobj.header['intent_name'] = b'mrs_v0_2'\n",
    "\n",
    "# Write extension\n",
    "extension = nib.nifti1.Nifti1Extension(44, metadata_json.encode('UTF-8'))\n",
    "newobj.header.extensions.append(extension)\n",
    "\n",
    "# # From nii obj and write    \n",
    "nib.save(newobj,dyexample / 'example_1.nii.gz')"
   ]
  },
  {
   "cell_type": "markdown",
   "metadata": {},
   "source": [
    "## Example 2 - Variable TE\n",
    "Modify a simple PRESS sequence to modulate with a variable TE  \n",
    "  \n",
    "Original has 35 ms TE with 19.25 ms as the second TE  "
   ]
  },
  {
   "cell_type": "code",
   "execution_count": 11,
   "metadata": {},
   "outputs": [
    {
     "data": {
      "text/plain": [
       "{'sequenceName': 'svs_se',\n",
       " 'description': '35 ms 3T PRESS Siemens sequence, no spatial treatment',\n",
       " 'B0': 3.0,\n",
       " 'centralShift': 4.65,\n",
       " 'Rx_Points': 8192,\n",
       " 'Rx_SW': 4000,\n",
       " 'Rx_LW': 2,\n",
       " 'Rx_Phase': 0.695,\n",
       " 'x': [-25, 25],\n",
       " 'y': [-25, 25],\n",
       " 'z': [-25, 25],\n",
       " 'resolution': [1, 1, 1],\n",
       " 'CoherenceFilter': [-1, 1, -1],\n",
       " 'RFUnits': 'Hz',\n",
       " 'GradUnits': 'mT',\n",
       " 'spaceUnits': 'mm',\n",
       " 'RF': [{'time': 0.0001,\n",
       "   'frequencyOffset': -283.0,\n",
       "   'phaseOffset': 0,\n",
       "   'amp': [2500.0],\n",
       "   'phase': [0.0],\n",
       "   'grad': [0, 0, 0]},\n",
       "  {'time': 0.0001,\n",
       "   'frequencyOffset': -283.0,\n",
       "   'phaseOffset': 0,\n",
       "   'amp': [5000.0],\n",
       "   'phase': [0.0],\n",
       "   'grad': [0, 0, 0]},\n",
       "  {'time': 0.0001,\n",
       "   'frequencyOffset': -283.0,\n",
       "   'phaseOffset': 0,\n",
       "   'amp': [5000.0],\n",
       "   'phase': [0.0],\n",
       "   'grad': [0, 0, 0]}],\n",
       " 'delays': [0.007775, 0.0174, 0.009575],\n",
       " 'rephaseAreas': [[0.0, 0.0, 0.0], [0.0, 0.0, 0.0], [0.0, 0.0, 0.0]]}"
      ]
     },
     "execution_count": 11,
     "metadata": {},
     "output_type": "execute_result"
    }
   ],
   "source": [
    "with open(dyexample / 'svs_se_35.json') as jsonf:\n",
    "    original_json = json.load(jsonf)\n",
    "\n",
    "original_json\n"
   ]
  },
  {
   "cell_type": "code",
   "execution_count": 12,
   "metadata": {},
   "outputs": [
    {
     "name": "stdout",
     "output_type": "stream",
     "text": [
      "[0.    0.001 0.002 0.003 0.004 0.007 0.012 0.02  0.033 0.055 0.09 ]\n"
     ]
    }
   ],
   "source": [
    "add_TE = np.round(np.exp(np.arange(0,10)/2))\n",
    "add_TE = np.insert(add_TE, 0, 0,)\n",
    "add_TE /= 1000\n",
    "print(add_TE)"
   ]
  },
  {
   "cell_type": "code",
   "execution_count": 13,
   "metadata": {},
   "outputs": [],
   "source": [
    "out_basis = []\n",
    "for te in add_TE:\n",
    "#     print(te)\n",
    "    current_json = deepcopy(original_json)\n",
    "    current_json['delays'][1] += te/2\n",
    "    current_json['delays'][2] += te/2\n",
    "    new_te = np.round(1000*(np.sum(current_json['delays'])+0.00015+0.0001))\n",
    "#     print(new_te)\n",
    "    \n",
    "    # Write the new json to file\n",
    "    current_json_file = dyexample / f'svs_se_{new_te:03.0f}.json'\n",
    "    with open(current_json_file,'w') as jsonf:\n",
    "        json.dump(current_json,jsonf)\n",
    "    \n",
    "    cbasis =  f'basis_{new_te:03.0f}'\n",
    "    out_basis.append(dyexample / cbasis)\n",
    "    check_call(['fsl_mrs_sim',\n",
    "                '-m', 'NAA',\n",
    "                '-o', str(dyexample / cbasis),\n",
    "                '-p', '2.0',\n",
    "                '--overwrite',\n",
    "                str(current_json_file)])\n",
    "    \n",
    "    (dyexample / f'svs_se_{new_te:03.0f}.json').unlink()\n",
    "    "
   ]
  },
  {
   "cell_type": "code",
   "execution_count": 14,
   "metadata": {},
   "outputs": [],
   "source": [
    "full_data = np.zeros((2048,4,len(out_basis)),dtype=np.complex)\n",
    "\n",
    "for idx, basis in enumerate(out_basis):\n",
    "    # Generate multi-coil dataset\n",
    "    fids, header, _ = synthetic_from_basis.syntheticFromBasisFile(str(basis),\n",
    "                                                broadening=(9.0, 9.0),\n",
    "                                                coilamps=[1.0, 0.85 , 0.65 , 1.15],\n",
    "                                                coilphase=[0.0, 1.5, 1.0, 3.5],\n",
    "                                                noisecovariance=[[0.5,0.05,0.01,0.01],[0.05,0.5,0.01,0.01],[0.01,0.01,0.5,0.05],[0.01,0.01,0.05,0.5]])\n",
    "\n",
    "    full_data[:,:,idx] = fids\n",
    "#     mrs = MRS(FID=fids[:,0].conj(),header=header,nucleus='1H')\n",
    "#     mrs2 = MRS(FID=fids[:,3].conj(),header=header,nucleus='1H')\n",
    "    \n",
    "#     mrs.plot()\n",
    "#     mrs2.plot()"
   ]
  },
  {
   "cell_type": "code",
   "execution_count": 15,
   "metadata": {},
   "outputs": [
    {
     "data": {
      "image/png": "[encoded data removed]",
      "text/plain": [
       "<Figure size 1440x936 with 3 Axes>"
      ]
     },
     "metadata": {
      "needs_background": "light"
     },
     "output_type": "display_data"
    }
   ],
   "source": [
    "plot_frequency_orientation(fids[:,0],header)"
   ]
  },
  {
   "cell_type": "code",
   "execution_count": 16,
   "metadata": {},
   "outputs": [],
   "source": [
    "for basis in out_basis:\n",
    "    shutil.rmtree(basis)"
   ]
  },
  {
   "cell_type": "markdown",
   "metadata": {},
   "source": [
    "## Write data out\n",
    "\n",
    "### Form complex data\n",
    "Dimensions 1-3 are space  \n",
    "Dimension 4 is time  \n",
    "Dimension 5 is coils  \n",
    "Dimension 6 is the indirect j-evolution "
   ]
  },
  {
   "cell_type": "code",
   "execution_count": 17,
   "metadata": {},
   "outputs": [
    {
     "name": "stdout",
     "output_type": "stream",
     "text": [
      "(1, 1, 1, 2048, 4, 11)\n"
     ]
    }
   ],
   "source": [
    "newshape = (1,1,1)+full_data.shape\n",
    "full_data = full_data.reshape(newshape)\n",
    "print(full_data.shape)"
   ]
  },
  {
   "cell_type": "markdown",
   "metadata": {},
   "source": [
    "### Form dimension information"
   ]
  },
  {
   "cell_type": "code",
   "execution_count": 18,
   "metadata": {},
   "outputs": [],
   "source": [
    "dimensions_dict = {'dim_5': 'DIM_COIL',\n",
    "                   'dim_6': 'DIM_INDIRECT_0',\n",
    "                   'dim_6_use': 'Incremented echo time for j-evolution',\n",
    "                   'dim_6_header': 'EchoTime',\n",
    "                   'dim_6_offset': {'EchoTime': add_TE.tolist()}\n",
    "                  }"
   ]
  },
  {
   "cell_type": "markdown",
   "metadata": {},
   "source": [
    "### Required metadata"
   ]
  },
  {
   "cell_type": "code",
   "execution_count": 19,
   "metadata": {},
   "outputs": [],
   "source": [
    "dwelltime = 1/header['bandwidth'] # For pixdim[4]\n",
    "\n",
    "metadata = {'TransmitterFrequency': header['centralFrequency']/1E6,\n",
    "            'ResonantNucleus': '1H'}\n",
    "\n",
    "exp_echotimes = 0.035"
   ]
  },
  {
   "cell_type": "code",
   "execution_count": 20,
   "metadata": {},
   "outputs": [],
   "source": [
    "full_metadata = metadata\n",
    "full_metadata['EchoTime'] = exp_echotimes\n",
    "full_metadata.update(dimensions_dict)\n",
    "metadata_json = json.dumps(full_metadata)"
   ]
  },
  {
   "cell_type": "markdown",
   "metadata": {},
   "source": [
    "### Orientation information\n",
    "No spatial position but pixel dimensions of [20 20 20]"
   ]
  },
  {
   "cell_type": "code",
   "execution_count": 21,
   "metadata": {},
   "outputs": [],
   "source": [
    "newobj = nib.nifti2.Nifti2Image(full_data,None)\n",
    "\n",
    "# Write new header\n",
    "pixDim = newobj.header['pixdim']\n",
    "pixDim[1:4] = [20, 20, 20]\n",
    "pixDim[4] = dwelltime\n",
    "newobj.header['pixdim'] = pixDim\n",
    "\n",
    "# Set q_form = 0\n",
    "newobj.header.set_qform(None,code=0)\n",
    "\n",
    "# Set conformance level \n",
    "newobj.header['intent_name'] = b'mrs_v0_2'\n",
    "\n",
    "# Write extension\n",
    "extension = nib.nifti1.Nifti1Extension(44, metadata_json.encode('UTF-8'))\n",
    "newobj.header.extensions.append(extension)\n",
    "\n",
    "# # From nii obj and write    \n",
    "nib.save(newobj,dyexample / 'example_2.nii.gz')"
   ]
  },
  {
   "cell_type": "markdown",
   "metadata": {},
   "source": [
    "## Example 3 - Fingerprinting\n",
    "\n",
    "Vary a simple signal with TE and TR and pulse flip-angle.  \n",
    "\n",
    "Fudge the exact signal equations."
   ]
  },
  {
   "cell_type": "code",
   "execution_count": 22,
   "metadata": {},
   "outputs": [
    {
     "data": {
      "text/plain": [
       "array([0.16951925, 0.23134126, 0.28428223, 0.38678463, 0.42125909,\n",
       "       0.45269414, 0.3237599 , 0.34418324, 0.41849319, 0.3789716 ,\n",
       "       0.48560146, 0.49904618, 0.61160875, 0.61755018, 0.69038978,\n",
       "       0.57367804, 0.62802749, 0.51492107, 0.53040021, 0.38099123])"
      ]
     },
     "execution_count": 22,
     "metadata": {},
     "output_type": "execute_result"
    }
   ],
   "source": [
    "fp_TE = 0.060*np.random.rand((20))\n",
    "fp_TR = 1+0.50*np.random.rand((20))\n",
    "flip = np.linspace(10,100,20) * np.pi/180\n",
    "\n",
    "T1 = 1\n",
    "T2 = 0.100\n",
    "\n",
    "ps = np.sin(flip) * np.exp(-fp_TE/T2) * (1-np.exp(-fp_TR/T1))/(1-np.cos(flip)*np.exp(-fp_TR/T1))\n",
    "ps\n"
   ]
  },
  {
   "cell_type": "code",
   "execution_count": 23,
   "metadata": {},
   "outputs": [
    {
     "name": "stdout",
     "output_type": "stream",
     "text": [
      "(1, 1, 1, 2048, 20)\n"
     ]
    }
   ],
   "source": [
    "full_data = np.zeros((2048,len(ps)),dtype=np.complex)\n",
    "for idx,sig_scale in enumerate(ps):\n",
    "    fid,header = synthetic.syntheticFID(chemicalshift=[0], amplitude=[1.0], phase=[0], damping=[20])\n",
    "    full_data[:,idx] = fid[0]\n",
    "    \n",
    "newshape = (1,1,1)+full_data.shape\n",
    "full_data = full_data.reshape(newshape)\n",
    "print(full_data.shape)"
   ]
  },
  {
   "cell_type": "code",
   "execution_count": 24,
   "metadata": {},
   "outputs": [],
   "source": [
    "dimensions_dict = {'dim_5': 'DIM_USER_0',\n",
    "                   'dim_5_use': 'Acquisition index with variable TE, TR and pulse flip-angle',\n",
    "                   'dim_5_header': ['EchoTime','RepetitionTime','exc_pulse_fa'],\n",
    "                   'dim_5_offset': {'EchoTime': (fp_TE-np.min(fp_TE)).tolist(),\n",
    "                                    'RepetitionTime': (fp_TR-np.min(fp_TR)).tolist()}\n",
    "                  }"
   ]
  },
  {
   "cell_type": "code",
   "execution_count": 25,
   "metadata": {},
   "outputs": [],
   "source": [
    "dwelltime = 1/header['bandwidth'] # For pixdim[4]\n",
    "\n",
    "metadata = {'TransmitterFrequency': header['centralFrequency']/1E6,\n",
    "            'ResonantNucleus': '1H'}\n",
    "\n",
    "full_metadata = metadata\n",
    "full_metadata['exc_pulse_fa'] = { 'Value': (flip*180/np.pi).tolist(),\n",
    "                                  'Description' : 'User defined excitation pulse flip-angle.',\n",
    "                                  'Unit' : 'Degrees',\n",
    "                                  'Delete_for_anon': False}\n",
    "\n",
    "full_metadata.update(dimensions_dict)\n",
    "metadata_json = json.dumps(full_metadata)"
   ]
  },
  {
   "cell_type": "code",
   "execution_count": 26,
   "metadata": {},
   "outputs": [],
   "source": [
    "newobj = nib.nifti2.Nifti2Image(full_data,None)\n",
    "\n",
    "# Write new header\n",
    "pixDim = newobj.header['pixdim']\n",
    "pixDim[1:4] = [20, 20, 20]\n",
    "pixDim[4] = dwelltime\n",
    "newobj.header['pixdim'] = pixDim\n",
    "\n",
    "# Set q_form = 0\n",
    "newobj.header.set_qform(None,code=0)\n",
    "\n",
    "# Set conformance level \n",
    "newobj.header['intent_name'] = b'mrs_v0_2'\n",
    "\n",
    "# Write extension\n",
    "extension = nib.nifti1.Nifti1Extension(44, metadata_json.encode('UTF-8'))\n",
    "newobj.header.extensions.append(extension)\n",
    "\n",
    "# # From nii obj and write    \n",
    "nib.save(newobj,dyexample / 'example_3.nii.gz')"
   ]
  }
 ],
 "metadata": {
  "kernelspec": {
   "display_name": "Python 3",
   "language": "python",
   "name": "python3"
  },
  "language_info": {
   "codemirror_mode": {
    "name": "ipython",
    "version": 3
   },
   "file_extension": ".py",
   "mimetype": "text/x-python",
   "name": "python",
   "nbconvert_exporter": "python",
   "pygments_lexer": "ipython3",
   "version": "3.7.7"
  }
 },
 "nbformat": 4,
 "nbformat_minor": 4
}
