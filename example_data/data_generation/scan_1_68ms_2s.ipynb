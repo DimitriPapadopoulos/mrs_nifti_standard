{
 "cells": [
  {
   "cell_type": "code",
   "execution_count": 3,
   "id": "28511201-3470-4bfd-8884-195951bc5e15",
   "metadata": {},
   "outputs": [
    {
     "data": {
      "text/plain": [
       "['',\n",
       " 'Scan 1/2, read all mdhs:   0%|          | 0.00/33.2M [00:00<?, ?B/s]',\n",
       " '                                                                    ',\n",
       " '',\n",
       " 'Scan 2/2, read all mdhs:   0%|          | 0.00/265M [00:00<?, ?B/s]',\n",
       " 'Scan 2/2, read all mdhs:  60%|██████    | 160M/265M [00:00<00:00, 1.68GB/s]',\n",
       " '                                                                           ',\n",
       " 'pymapVBVD version 0.4.2',\n",
       " 'Software version: VD',\n",
       " 'Contents of file: meas_MID00113_FID127014_mega_press_TR2000_V1_.dat',\n",
       " 'Multiraid file, 2 files found.',\n",
       " 'Selecting file 2. Use -m option to change.',\n",
       " 'The file contains these evalinfo flags with dimensions and sizes as follows:',\n",
       " 'image          :\\tCol, Cha, Eco, Set  \\t[4128   32    2  128]',\n",
       " 'noise          :\\tCol, Cha            \\t[4128   32]',\n",
       " 'phasecor       :\\tCol, Cha            \\t[4128   32]']"
      ]
     },
     "execution_count": 3,
     "metadata": {},
     "output_type": "execute_result"
    }
   ],
   "source": [
    "%sx spec2nii twix -v meas_MID00113_FID127014_mega_press_TR2000_V1_.dat"
   ]
  },
  {
   "cell_type": "code",
   "execution_count": 25,
   "id": "b090c40e-2c0b-42fa-bec0-62aeaf076a86",
   "metadata": {},
   "outputs": [
    {
     "data": {
      "text/plain": [
       "['',\n",
       " 'read data:   0%|                                       | 0/256 [00:00<?, ?it/s]',\n",
       " 'read data:   1%|▏                              | 2/256 [00:00<00:15, 16.51it/s]',\n",
       " 'read data:  12%|███▍                         | 30/256 [00:00<00:01, 114.24it/s]',\n",
       " 'read data:  24%|███████                      | 62/256 [00:00<00:01, 147.67it/s]',\n",
       " 'read data:  37%|██████████▋                  | 94/256 [00:00<00:00, 174.57it/s]',\n",
       " 'read data:  49%|█████████████▊              | 126/256 [00:00<00:00, 193.87it/s]',\n",
       " 'read data:  62%|█████████████████▎          | 158/256 [00:00<00:00, 205.35it/s]',\n",
       " 'read data:  74%|████████████████████▊       | 190/256 [00:01<00:00, 212.04it/s]',\n",
       " 'read data:  87%|████████████████████████▎   | 222/256 [00:01<00:00, 217.48it/s]',\n",
       " 'read data:  99%|███████████████████████████▊| 254/256 [00:01<00:00, 219.95it/s]',\n",
       " '                                                                               ',\n",
       " 'Header extension validated!']"
      ]
     },
     "execution_count": 25,
     "metadata": {},
     "output_type": "execute_result"
    }
   ],
   "source": [
    "%sx spec2nii twix -q -o scan_1_68ms_2s/raw_nifti -f metab_raw -e image meas_MID00113_FID127014_mega_press_TR2000_V1_.dat"
   ]
  },
  {
   "cell_type": "code",
   "execution_count": 24,
   "id": "124902ae-2cd0-4c5b-9d5f-0eaa5905cb6e",
   "metadata": {},
   "outputs": [
    {
     "data": {
      "text/plain": [
       "['',\n",
       " 'read data:   0%|                                         | 0/2 [00:00<?, ?it/s]',\n",
       " '                                                                               ',\n",
       " 'Header extension validated!']"
      ]
     },
     "execution_count": 24,
     "metadata": {},
     "output_type": "execute_result"
    }
   ],
   "source": [
    "%sx spec2nii twix -q -o scan_1_68ms_2s/raw_nifti -f wref_internal -e phasecor meas_MID00113_FID127014_mega_press_TR2000_V1_.dat\n",
    "%sx spec2nii twix -q -o scan_1_68ms_2s/raw_nifti -f wref_quant -e image meas_MID00117_FID127018_mega_press_wref3_V1.dat"
   ]
  },
  {
   "cell_type": "code",
   "execution_count": 26,
   "id": "cdf349e5-8327-4eeb-b2bb-f89ce1225783",
   "metadata": {},
   "outputs": [
    {
     "data": {
      "text/plain": [
       "['',\n",
       " 'Read file metab_raw.nii.gz (/Users/wclarke/Documents/Data/HelpingPeople/BI/mmsuppresed_170621/scan_1_68ms_2s/raw_nifti).',\n",
       " 'NIfTI-MRS version 0.2',\n",
       " 'Data shape (1, 1, 1, 4128, 32, 2, 128)',\n",
       " \"Dimension tags: ['DIM_COIL', 'DIM_EDIT', 'DIM_DYN']\",\n",
       " 'Spectrometer Frequency: 123.255795 MHz',\n",
       " 'Dwelltime (Bandwidth): 1.250E-04s (8000 Hz)',\n",
       " 'Nucleus: 1H',\n",
       " 'Field Strength: 2.89 T',\n",
       " '']"
      ]
     },
     "execution_count": 26,
     "metadata": {},
     "output_type": "execute_result"
    }
   ],
   "source": [
    "%sx mrs_tools info scan_1_68ms_2s/raw_nifti/metab_raw.nii.gz"
   ]
  },
  {
   "cell_type": "code",
   "execution_count": 27,
   "id": "6e38d45e-ec34-4dea-8367-e7aa67bbbe44",
   "metadata": {},
   "outputs": [
    {
     "data": {
      "text/plain": [
       "['',\n",
       " 'Read file wref_internal.nii.gz (/Users/wclarke/Documents/Data/HelpingPeople/BI/mmsuppresed_170621/scan_1_68ms_2s/raw_nifti).',\n",
       " 'NIfTI-MRS version 0.2',\n",
       " 'Data shape (1, 1, 1, 4128, 32)',\n",
       " \"Dimension tags: ['DIM_COIL', None, None]\",\n",
       " 'Spectrometer Frequency: 123.255795 MHz',\n",
       " 'Dwelltime (Bandwidth): 1.250E-04s (8000 Hz)',\n",
       " 'Nucleus: 1H',\n",
       " 'Field Strength: 2.89 T',\n",
       " '']"
      ]
     },
     "execution_count": 27,
     "metadata": {},
     "output_type": "execute_result"
    }
   ],
   "source": [
    "%sx mrs_tools info scan_1_68ms_2s/raw_nifti/wref_internal.nii.gz"
   ]
  },
  {
   "cell_type": "code",
   "execution_count": 28,
   "id": "4a8b4a37-3f6a-42a4-957c-e446776d2131",
   "metadata": {},
   "outputs": [
    {
     "data": {
      "text/plain": [
       "['',\n",
       " 'Read file wref_quant.nii.gz (/Users/wclarke/Documents/Data/HelpingPeople/BI/mmsuppresed_170621/scan_1_68ms_2s/raw_nifti).',\n",
       " 'NIfTI-MRS version 0.2',\n",
       " 'Data shape (1, 1, 1, 4128, 32, 2)',\n",
       " \"Dimension tags: ['DIM_COIL', 'DIM_EDIT', None]\",\n",
       " 'Spectrometer Frequency: 123.255794 MHz',\n",
       " 'Dwelltime (Bandwidth): 3.333E-04s (3000 Hz)',\n",
       " 'Nucleus: 1H',\n",
       " 'Field Strength: 2.89 T',\n",
       " '']"
      ]
     },
     "execution_count": 28,
     "metadata": {},
     "output_type": "execute_result"
    }
   ],
   "source": [
    "%sx mrs_tools info scan_1_68ms_2s/raw_nifti/wref_quant.nii.gz"
   ]
  },
  {
   "cell_type": "markdown",
   "id": "bd603e34-12cc-4c13-b957-5e9f964968df",
   "metadata": {},
   "source": [
    "## Post-process\n",
    "### Coil combine"
   ]
  },
  {
   "cell_type": "code",
   "execution_count": 29,
   "id": "d59f3585-6931-4b06-9332-c05db31afa1c",
   "metadata": {},
   "outputs": [
    {
     "data": {
      "text/plain": [
       "[]"
      ]
     },
     "execution_count": 29,
     "metadata": {},
     "output_type": "execute_result"
    }
   ],
   "source": [
    "%sx fsl_mrs_proc coilcombine --file scan_1_68ms_2s/raw_nifti/metab_raw.nii.gz --reference raw_nifti/wref_internal.nii.gz --output scan_1_68ms_2s/processed --filename combined --overwrite -r\n",
    "%sx fsl_mrs_proc coilcombine --file scan_1_68ms_2s/raw_nifti/wref_internal.nii.gz  --output scan_1_68ms_2s/processed --filename combined_wref\n",
    "%sx fsl_mrs_proc coilcombine --file scan_1_68ms_2s/raw_nifti/wref_quant.nii.gz  --output scan_1_68ms_2s/processed --filename combined_quant"
   ]
  },
  {
   "cell_type": "markdown",
   "id": "0996930b-3f31-4438-a5ac-22bb5e974491",
   "metadata": {},
   "source": [
    "### Align averages"
   ]
  },
  {
   "cell_type": "code",
   "execution_count": 20,
   "id": "f3d2a94c-07c6-4246-be4c-ca979e9aedfe",
   "metadata": {},
   "outputs": [
    {
     "data": {
      "text/plain": [
       "[]"
      ]
     },
     "execution_count": 20,
     "metadata": {},
     "output_type": "execute_result"
    }
   ],
   "source": [
    "%sx fsl_mrs_proc align --file scan_1_68ms_2s/processed/combined.nii.gz --output scan_1_68ms_2s/processed --filename aligned -r"
   ]
  },
  {
   "cell_type": "code",
   "execution_count": 24,
   "id": "b3da0eb4-0399-49d5-b58b-2a1d0d368cd8",
   "metadata": {},
   "outputs": [
    {
     "data": {
      "text/plain": [
       "[]"
      ]
     },
     "execution_count": 24,
     "metadata": {},
     "output_type": "execute_result"
    }
   ],
   "source": [
    "%sx fsl_mrs_proc align-diff --file scan_1_68ms_2s/processed/aligned.nii.gz --dim DIM_DYN --dim_diff DIM_EDIT --diff_type sub --output scan_1_68ms_2s/processed --filename aligned2 -r"
   ]
  },
  {
   "cell_type": "markdown",
   "id": "7070d91a-6fa6-44c8-9d5a-b58726a0b2d3",
   "metadata": {},
   "source": [
    "### Combine averages, ecc, phase, and Difference"
   ]
  },
  {
   "cell_type": "code",
   "execution_count": 31,
   "id": "ddce71bf-57b3-4d73-a196-f2aa32e6c080",
   "metadata": {},
   "outputs": [
    {
     "data": {
      "text/plain": [
       "[]"
      ]
     },
     "execution_count": 31,
     "metadata": {},
     "output_type": "execute_result"
    }
   ],
   "source": [
    "%sx fsl_mrs_proc average --file scan_1_68ms_2s/processed/aligned2.nii.gz --dim DIM_DYN --output scan_1_68ms_2s/processed --filename avg"
   ]
  },
  {
   "cell_type": "code",
   "execution_count": 56,
   "id": "d8051abb-933d-49e2-98ce-c18e3f94397c",
   "metadata": {},
   "outputs": [
    {
     "data": {
      "text/plain": [
       "[]"
      ]
     },
     "execution_count": 56,
     "metadata": {},
     "output_type": "execute_result"
    }
   ],
   "source": [
    "%sx fsl_mrs_proc ecc --file scan_1_68ms_2s/processed/avg.nii.gz --reference processed/combined_wref.nii.gz --output scan_1_68ms_2s/processed --filename ecc -r\n",
    "%sx fsl_mrs_proc truncate --file scan_1_68ms_2s/processed/ecc.nii.gz --points -2 --pos first --output scan_1_68ms_2s/processed --filename truncated -r\n",
    "%sx fsl_mrs_proc phase  --file scan_1_68ms_2s/processed/truncated.nii.gz --ppm 2.8 3.1 --output scan_1_68ms_2s/processed --filename phased -r"
   ]
  },
  {
   "cell_type": "code",
   "execution_count": 57,
   "id": "ced450b2-1972-4dc9-90dd-c862d8e33ed0",
   "metadata": {},
   "outputs": [
    {
     "data": {
      "text/plain": [
       "[]"
      ]
     },
     "execution_count": 57,
     "metadata": {},
     "output_type": "execute_result"
    }
   ],
   "source": [
    "%sx fsl_mrs_proc subtract --file scan_1_68ms_2s/processed/phased.nii.gz --dim DIM_EDIT --output scan_1_68ms_2s/processed --filename diff -r"
   ]
  },
  {
   "cell_type": "code",
   "execution_count": 62,
   "id": "fa6552fa-0de8-4195-ae62-78e92e81b8c7",
   "metadata": {},
   "outputs": [
    {
     "data": {
      "text/plain": [
       "[]"
      ]
     },
     "execution_count": 62,
     "metadata": {},
     "output_type": "execute_result"
    }
   ],
   "source": [
    "%sx fsl_mrs_proc fixed_phase --file scan_1_68ms_2s/processed/diff.nii.gz --p0 195 --output scan_1_68ms_2s/processed --filename final_metab -r"
   ]
  },
  {
   "cell_type": "markdown",
   "id": "be82a769-d796-4c41-b9ca-012be1870f37",
   "metadata": {},
   "source": [
    "### Create ON/OFF Spectra"
   ]
  },
  {
   "cell_type": "code",
   "execution_count": 20,
   "id": "8adab780-eb9d-4ad2-b8e7-48749b2cafac",
   "metadata": {},
   "outputs": [
    {
     "data": {
      "text/plain": [
       "[]"
      ]
     },
     "execution_count": 20,
     "metadata": {},
     "output_type": "execute_result"
    }
   ],
   "source": [
    "%sx mrs_tools split --file scan_1_68ms_2s/processed/phased.nii.gz --dim DIM_EDIT --index 1 --output scan_1_68ms_2s/processed --filename split\n",
    "%sx mv scan_1_68ms_2s/processed/split_1.nii.gz scan_1_68ms_2s/processed/off.nii.gz\n",
    "%sx mv scan_1_68ms_2s/processed/split_2.nii.gz scan_1_68ms_2s/processed/on.nii.gz"
   ]
  },
  {
   "cell_type": "markdown",
   "id": "cd334e74-640f-4b41-b6e0-78e8b684c2a7",
   "metadata": {},
   "source": [
    "### Process the quantification spectra"
   ]
  },
  {
   "cell_type": "code",
   "execution_count": 35,
   "id": "1700b237-7153-4416-bad9-4637b54229dc",
   "metadata": {},
   "outputs": [
    {
     "data": {
      "text/plain": [
       "[]"
      ]
     },
     "execution_count": 35,
     "metadata": {},
     "output_type": "execute_result"
    }
   ],
   "source": [
    "%sx mrs_tools split --file scan_1_68ms_2s/processed/combined_quant.nii.gz --dim DIM_EDIT --index 1 --output scan_1_68ms_2s/processed --filename quant_split\n",
    "%sx mv scan_1_68ms_2s/processed/quant_split_1.nii.gz scan_1_68ms_2s/processed/quant.nii.gz\n",
    "%sx rm scan_1_68ms_2s/processed/quant_split_2.nii.gz\n",
    "%sx fsl_mrs_proc truncate --file scan_1_68ms_2s/processed/quant.nii.gz --points -2 --pos first --output scan_1_68ms_2s/processed --filename quant\n",
    "%sx fsl_mrs_proc ecc --file scan_1_68ms_2s/processed/quant.nii.gz --reference scan_1_68ms_2s/processed/quant.nii.gz --output scan_1_68ms_2s/processed --filename quant\n",
    "\n",
    "# %sx fsl_mrs_proc phase --file scan_1_68ms_2s/processed/quant.nii.gz --ppm 3 7 --output scan_1_68ms_2s/processed --filename quant -r"
   ]
  },
  {
   "cell_type": "markdown",
   "id": "f88d4d0c-ea89-4d7c-afec-eba3b31cdd7e",
   "metadata": {},
   "source": [
    "### Fit"
   ]
  },
  {
   "cell_type": "code",
   "execution_count": 37,
   "id": "6501177d-a78d-4dd6-83ce-012a2951b5bf",
   "metadata": {},
   "outputs": [
    {
     "data": {
      "text/plain": [
       "[]"
      ]
     },
     "execution_count": 37,
     "metadata": {},
     "output_type": "execute_result"
    }
   ],
   "source": [
    "%sx fsl_mrs --data scan_1_68ms_2s/processed/final_metab.nii.gz\\\n",
    "    --basis uzay_svs_mpress_68_res_60_diff/\\\n",
    "    --keep NAA NAAG GABA Gln Glu GSH\\\n",
    "    --add_MM_MEGA\\\n",
    "    --ppmlim 0.2 4.2\\\n",
    "    --algo MH\\\n",
    "    --internal_ref NAA\\\n",
    "    --baseline_order -1\\\n",
    "    --h2o scan_1_68ms_2s/processed/quant.nii.gz\\\n",
    "    --output scan_1_68ms_2s/fit_diff\\\n",
    "    --report --overwrite"
   ]
  },
  {
   "cell_type": "code",
   "execution_count": 36,
   "id": "cf8f00f3-a70f-4131-b414-c2c8f618bbef",
   "metadata": {},
   "outputs": [
    {
     "data": {
      "text/plain": [
       "[]"
      ]
     },
     "execution_count": 36,
     "metadata": {},
     "output_type": "execute_result"
    }
   ],
   "source": [
    "%sx fsl_mrs --data scan_1_68ms_2s/processed/off.nii.gz\\\n",
    "    --basis uzay_svs_mpress_68_res_60_off/\\\n",
    "    --add_MM\\\n",
    "    --ppmlim 0.2 4.2\\\n",
    "    --algo Newton\\\n",
    "    --baseline_order 1\\\n",
    "    --h2o scan_1_68ms_2s/processed/quant.nii.gz\\\n",
    "    --output scan_1_68ms_2s/fit_off\\\n",
    "    --report --overwrite"
   ]
  },
  {
   "cell_type": "code",
   "execution_count": 68,
   "id": "73522be7-63f2-4d9d-874a-dba46f1b0b54",
   "metadata": {},
   "outputs": [
    {
     "data": {
      "text/plain": [
       "['usage: fsl_mrs [-h] [-v] --data <str> --basis <str> --output <str>',\n",
       " '               [--algo ALGO] [--ignore METAB [METAB ...]]',\n",
       " '               [--keep METAB [METAB ...]] [--combine METAB [METAB ...]]',\n",
       " '               [--ppmlim LOW HIGH] [--h2o H2O] [--baseline_order ORDER]',\n",
       " '               [--metab_groups METAB_GROUPS [METAB_GROUPS ...]] [--add_MM]',\n",
       " '               [--add_MM_MEGA] [--lorentzian]',\n",
       " '               [--ind_scale IND_SCALE [IND_SCALE ...]] [--disable_MH_priors]',\n",
       " '               [--t1 IMAGE] [--TE TE] [--TR TR]',\n",
       " '               [--tissue_frac WM GM CSF OR json [WM GM CSF OR json ...]]',\n",
       " '               [--internal_ref INTERNAL_REF [INTERNAL_REF ...]]',\n",
       " '               [--wref_metabolite WREF_METABOLITE] [--ref_protons REF_PROTONS]',\n",
       " '               [--ref_int_limits REF_INT_LIMITS REF_INT_LIMITS]',\n",
       " '               [--h2o_scale H2O_SCALE] [--report] [--verbose] [--overwrite]',\n",
       " '               [--conj_fid] [--no_conj_fid] [--conj_basis] [--no_conj_basis]',\n",
       " '               [--no_rescale] [--config CONFIG]',\n",
       " '',\n",
       " 'FSL Magnetic Resonance Spectroscopy Wrapper Script',\n",
       " '',\n",
       " 'optional arguments:',\n",
       " '  -h, --help            show this help message and exit',\n",
       " \"  -v, --version         show program's version number and exit\",\n",
       " '',\n",
       " 'required arguments:',\n",
       " '  --data <str>          input FID file',\n",
       " '  --basis <str>         .BASIS file or folder containing basis spectra(will',\n",
       " '                        read all files within)',\n",
       " '  --output <str>        output folder',\n",
       " '',\n",
       " 'fitting options:',\n",
       " '  --algo ALGO           algorithm [Newton (fast, default) or MH (slow)]',\n",
       " '  --ignore METAB [METAB ...]',\n",
       " '                        ignore certain metabolites [repeatable]',\n",
       " '  --keep METAB [METAB ...]',\n",
       " '                        only keep these metabolites',\n",
       " '  --combine METAB [METAB ...]',\n",
       " '                        combine certain metabolites [repeatable]',\n",
       " '  --ppmlim LOW HIGH     limit the fit to a freq range (default=(.2,4.2))',\n",
       " '  --h2o H2O             input .H2O file for quantification',\n",
       " '  --baseline_order ORDER',\n",
       " '                        order of baseline polynomial (default=2, -1 disables)',\n",
       " '  --metab_groups METAB_GROUPS [METAB_GROUPS ...]',\n",
       " '                        metabolite groups: list of groups or list of names for',\n",
       " '                        indept groups.',\n",
       " '  --add_MM              include default macromolecule peaks',\n",
       " '  --add_MM_MEGA         include default MEGA-PRESS macromolecule peaks',\n",
       " '  --lorentzian          Enable purely lorentzian broadening (default is Voigt)',\n",
       " '  --ind_scale IND_SCALE [IND_SCALE ...]',\n",
       " '                        List of basis spectra to scale independently of other',\n",
       " '                        basis spectra.',\n",
       " '  --disable_MH_priors   Disable MH priors.',\n",
       " '',\n",
       " 'additional options:',\n",
       " '  --t1 IMAGE            structural image (for report)',\n",
       " '  --TE TE               Echo time for relaxation correction (ms)',\n",
       " '  --TR TR               Repetition time for relaxation correction (s)',\n",
       " '  --tissue_frac WM GM CSF OR json [WM GM CSF OR json ...]',\n",
       " '                        Fractional tissue volumes for WM, GM, CSF or json',\n",
       " '                        segmentation file. Defaults to pure water scaling.',\n",
       " '  --internal_ref INTERNAL_REF [INTERNAL_REF ...]',\n",
       " '                        Metabolite(s) used as an internal reference. Defaults',\n",
       " '                        to tCr (Cr+PCr).',\n",
       " '  --wref_metabolite WREF_METABOLITE',\n",
       " '                        Metabolite(s) used as an the reference for water',\n",
       " '                        scaling. Uses internal defaults otherwise.',\n",
       " '  --ref_protons REF_PROTONS',\n",
       " '                        Number of protons that reference metabolite is',\n",
       " '                        equivalent to. No effect without setting',\n",
       " '                        --wref_metabolite.',\n",
       " '  --ref_int_limits REF_INT_LIMITS REF_INT_LIMITS',\n",
       " '                        Reference spectrum integration limits (low, high). No',\n",
       " '                        effect without setting --wref_metabolite.',\n",
       " '  --h2o_scale H2O_SCALE',\n",
       " '                        Additional scaling modifier for external water',\n",
       " '                        referencing.',\n",
       " '  --report              output html report',\n",
       " '  --verbose             spit out verbose info',\n",
       " '  --overwrite           overwrite existing output folder',\n",
       " '  --conj_fid            Force conjugation of FID',\n",
       " '  --no_conj_fid         Forbid automatic conjugation of FID',\n",
       " '  --conj_basis          Force conjugation of basis',\n",
       " '  --no_conj_basis       Forbid automatic conjugation of basis',\n",
       " '  --no_rescale          Forbid rescaling of FID/basis/H2O.',\n",
       " '  --config CONFIG       configuration file']"
      ]
     },
     "execution_count": 68,
     "metadata": {},
     "output_type": "execute_result"
    }
   ],
   "source": [
    "%sx fsl_mrs --help"
   ]
  }
 ],
 "metadata": {
  "kernelspec": {
   "display_name": "Python 3",
   "language": "python",
   "name": "python3"
  },
  "language_info": {
   "codemirror_mode": {
    "name": "ipython",
    "version": 3
   },
   "file_extension": ".py",
   "mimetype": "text/x-python",
   "name": "python",
   "nbconvert_exporter": "python",
   "pygments_lexer": "ipython3",
   "version": "3.8.10"
  }
 },
 "nbformat": 4,
 "nbformat_minor": 5
}
